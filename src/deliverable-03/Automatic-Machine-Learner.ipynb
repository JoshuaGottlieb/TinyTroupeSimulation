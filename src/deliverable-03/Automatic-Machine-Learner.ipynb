{
 "cells": [
  {
   "cell_type": "code",
   "execution_count": 1,
   "id": "48b118e0-d0b4-473f-b9f5-023da614d14b",
   "metadata": {},
   "outputs": [],
   "source": [
    "# from modules.chatbot import *\n",
    "from modules.dataholder import *\n",
    "from modules.preprocess import *\n",
    "from modules.model import *\n",
    "from modules.evaluate import *\n",
    "import pandas as pd"
   ]
  },
  {
   "cell_type": "code",
   "execution_count": 2,
   "id": "5a7de1f0-417e-48f0-bc67-bf00683a877b",
   "metadata": {
    "scrolled": true
   },
   "outputs": [
    {
     "name": "stdout",
     "output_type": "stream",
     "text": [
      "Loading data at ./regression_test.csv\n",
      "Normalizing column names\n",
      "Converting column types\n",
      "The current version cannot support date or time columns. These will be dropped automatically.\n"
     ]
    }
   ],
   "source": [
    "# csv = './classification_test.csv'\n",
    "# regression_flag = 0\n",
    "# target = 'churn'\n",
    "\n",
    "csv = './regression_test.csv'\n",
    "regression_flag = 1\n",
    "target = 'price'\n",
    "\n",
    "dataholder = DataHolder()\n",
    "dataholder.set_csv_path(csv)\n",
    "prep = DataFramePreprocessor(dataholder)"
   ]
  },
  {
   "cell_type": "code",
   "execution_count": 3,
   "id": "48a79247-153a-45e0-8383-74b62415f7ad",
   "metadata": {
    "scrolled": true
   },
   "outputs": [
    {
     "name": "stdout",
     "output_type": "stream",
     "text": [
      "<class 'pandas.core.frame.DataFrame'>\n",
      "Index: 30154 entries, 0 to 30154\n",
      "Data columns (total 20 columns):\n",
      " #   Column         Non-Null Count  Dtype  \n",
      "---  ------         --------------  -----  \n",
      " 0   price          30154 non-null  float64\n",
      " 1   bedrooms       30154 non-null  int64  \n",
      " 2   bathrooms      30154 non-null  float64\n",
      " 3   sqft_living    30154 non-null  int64  \n",
      " 4   sqft_lot       30154 non-null  int64  \n",
      " 5   floors         30154 non-null  float64\n",
      " 6   waterfront     30154 non-null  int64  \n",
      " 7   greenbelt      30154 non-null  int64  \n",
      " 8   nuisance       30154 non-null  object \n",
      " 9   view           30154 non-null  object \n",
      " 10  condition      30154 non-null  object \n",
      " 11  grade          30154 non-null  object \n",
      " 12  heat_source    30122 non-null  object \n",
      " 13  sewer_system   30140 non-null  object \n",
      " 14  sqft_above     30154 non-null  int64  \n",
      " 15  sqft_basement  30154 non-null  int64  \n",
      " 16  sqft_garage    30154 non-null  int64  \n",
      " 17  sqft_patio     30154 non-null  int64  \n",
      " 18  yr_built       30154 non-null  int64  \n",
      " 19  yr_renovated   30154 non-null  int64  \n",
      "dtypes: float64(3), int64(11), object(6)\n",
      "memory usage: 4.8+ MB\n"
     ]
    }
   ],
   "source": [
    "dataholder.get_dataframe().info()"
   ]
  },
  {
   "cell_type": "code",
   "execution_count": 4,
   "id": "1db5a0e7-338e-46ec-9fde-8e02a9b38f30",
   "metadata": {},
   "outputs": [],
   "source": [
    "dataholder.set_machine_learning_task(regression_flag)\n",
    "prep.split_features(target)"
   ]
  },
  {
   "cell_type": "code",
   "execution_count": 5,
   "id": "f00925ef-4ea5-44f9-9ea1-ef00643e9bbe",
   "metadata": {},
   "outputs": [
    {
     "name": "stdout",
     "output_type": "stream",
     "text": [
      "<class 'pandas.core.frame.DataFrame'>\n",
      "Index: 30154 entries, 0 to 30154\n",
      "Data columns (total 19 columns):\n",
      " #   Column         Non-Null Count  Dtype  \n",
      "---  ------         --------------  -----  \n",
      " 0   bedrooms       30154 non-null  int64  \n",
      " 1   bathrooms      30154 non-null  float64\n",
      " 2   sqft_living    30154 non-null  int64  \n",
      " 3   sqft_lot       30154 non-null  int64  \n",
      " 4   floors         30154 non-null  float64\n",
      " 5   waterfront     30154 non-null  int64  \n",
      " 6   greenbelt      30154 non-null  int64  \n",
      " 7   nuisance       30154 non-null  object \n",
      " 8   view           30154 non-null  object \n",
      " 9   condition      30154 non-null  object \n",
      " 10  grade          30154 non-null  object \n",
      " 11  heat_source    30122 non-null  object \n",
      " 12  sewer_system   30140 non-null  object \n",
      " 13  sqft_above     30154 non-null  int64  \n",
      " 14  sqft_basement  30154 non-null  int64  \n",
      " 15  sqft_garage    30154 non-null  int64  \n",
      " 16  sqft_patio     30154 non-null  int64  \n",
      " 17  yr_built       30154 non-null  int64  \n",
      " 18  yr_renovated   30154 non-null  int64  \n",
      "dtypes: float64(2), int64(11), object(6)\n",
      "memory usage: 4.6+ MB\n"
     ]
    }
   ],
   "source": [
    "dataholder.X.info()"
   ]
  },
  {
   "cell_type": "code",
   "execution_count": 6,
   "id": "b058a9c6-06de-4001-a294-e78f3cd3ff15",
   "metadata": {},
   "outputs": [
    {
     "data": {
      "text/plain": [
       "0         675000.0\n",
       "1         920000.0\n",
       "2         311000.0\n",
       "3         775000.0\n",
       "4         592500.0\n",
       "           ...    \n",
       "30150    1555000.0\n",
       "30151    1313000.0\n",
       "30152     800000.0\n",
       "30153     775000.0\n",
       "30154     500000.0\n",
       "Name: price, Length: 30154, dtype: float64"
      ]
     },
     "execution_count": 6,
     "metadata": {},
     "output_type": "execute_result"
    }
   ],
   "source": [
    "dataholder.y"
   ]
  },
  {
   "cell_type": "code",
   "execution_count": 7,
   "id": "29e21844-a2a0-4317-851d-4566462631e9",
   "metadata": {},
   "outputs": [],
   "source": [
    "prep.train_test_split()"
   ]
  },
  {
   "cell_type": "code",
   "execution_count": 8,
   "id": "74d6e620-b0f7-457d-9381-ab9467aba901",
   "metadata": {
    "scrolled": true
   },
   "outputs": [],
   "source": [
    "prep.clean_data(strictness = 2)"
   ]
  },
  {
   "cell_type": "code",
   "execution_count": 9,
   "id": "c1a56df6-e985-4053-8e0e-654e825278a1",
   "metadata": {},
   "outputs": [],
   "source": [
    "prep.standardize_and_encode()"
   ]
  },
  {
   "cell_type": "code",
   "execution_count": 10,
   "id": "113e1062-f662-48aa-a349-d426cbf222d0",
   "metadata": {},
   "outputs": [],
   "source": [
    "X_train, X_test, y_train, y_test = dataholder.get_train_test()"
   ]
  },
  {
   "cell_type": "code",
   "execution_count": 11,
   "id": "f22a0476-fa6a-49ec-a38c-3e6e1331ea83",
   "metadata": {},
   "outputs": [
    {
     "data": {
      "text/html": [
       "<div>\n",
       "<style scoped>\n",
       "    .dataframe tbody tr th:only-of-type {\n",
       "        vertical-align: middle;\n",
       "    }\n",
       "\n",
       "    .dataframe tbody tr th {\n",
       "        vertical-align: top;\n",
       "    }\n",
       "\n",
       "    .dataframe thead th {\n",
       "        text-align: right;\n",
       "    }\n",
       "</style>\n",
       "<table border=\"1\" class=\"dataframe\">\n",
       "  <thead>\n",
       "    <tr style=\"text-align: right;\">\n",
       "      <th></th>\n",
       "      <th>bedrooms</th>\n",
       "      <th>bathrooms</th>\n",
       "      <th>sqft_living</th>\n",
       "      <th>sqft_lot</th>\n",
       "      <th>floors</th>\n",
       "      <th>waterfront</th>\n",
       "      <th>greenbelt</th>\n",
       "      <th>nuisance</th>\n",
       "      <th>view</th>\n",
       "      <th>condition</th>\n",
       "      <th>grade</th>\n",
       "      <th>heat_source</th>\n",
       "      <th>sewer_system</th>\n",
       "      <th>sqft_above</th>\n",
       "      <th>sqft_basement</th>\n",
       "      <th>sqft_garage</th>\n",
       "      <th>sqft_patio</th>\n",
       "      <th>yr_built</th>\n",
       "    </tr>\n",
       "  </thead>\n",
       "  <tbody>\n",
       "    <tr>\n",
       "      <th>9993</th>\n",
       "      <td>4</td>\n",
       "      <td>3.5</td>\n",
       "      <td>4290</td>\n",
       "      <td>55742</td>\n",
       "      <td>2.0</td>\n",
       "      <td>1</td>\n",
       "      <td>0</td>\n",
       "      <td>YES</td>\n",
       "      <td>EXCELLENT</td>\n",
       "      <td>Good</td>\n",
       "      <td>11 Excellent</td>\n",
       "      <td>Gas</td>\n",
       "      <td>PUBLIC</td>\n",
       "      <td>2970</td>\n",
       "      <td>1480</td>\n",
       "      <td>750</td>\n",
       "      <td>1315</td>\n",
       "      <td>1978</td>\n",
       "    </tr>\n",
       "    <tr>\n",
       "      <th>24178</th>\n",
       "      <td>5</td>\n",
       "      <td>3.5</td>\n",
       "      <td>3530</td>\n",
       "      <td>5279</td>\n",
       "      <td>2.0</td>\n",
       "      <td>0</td>\n",
       "      <td>0</td>\n",
       "      <td>NO</td>\n",
       "      <td>NONE</td>\n",
       "      <td>Average</td>\n",
       "      <td>8 Good</td>\n",
       "      <td>Gas</td>\n",
       "      <td>PUBLIC</td>\n",
       "      <td>2550</td>\n",
       "      <td>980</td>\n",
       "      <td>420</td>\n",
       "      <td>280</td>\n",
       "      <td>2022</td>\n",
       "    </tr>\n",
       "    <tr>\n",
       "      <th>25576</th>\n",
       "      <td>3</td>\n",
       "      <td>1.0</td>\n",
       "      <td>1040</td>\n",
       "      <td>7287</td>\n",
       "      <td>1.0</td>\n",
       "      <td>0</td>\n",
       "      <td>0</td>\n",
       "      <td>NO</td>\n",
       "      <td>NONE</td>\n",
       "      <td>Very Good</td>\n",
       "      <td>7 Average</td>\n",
       "      <td>Electricity</td>\n",
       "      <td>PUBLIC</td>\n",
       "      <td>1040</td>\n",
       "      <td>0</td>\n",
       "      <td>300</td>\n",
       "      <td>0</td>\n",
       "      <td>1959</td>\n",
       "    </tr>\n",
       "    <tr>\n",
       "      <th>11295</th>\n",
       "      <td>3</td>\n",
       "      <td>2.0</td>\n",
       "      <td>1750</td>\n",
       "      <td>19465</td>\n",
       "      <td>1.0</td>\n",
       "      <td>0</td>\n",
       "      <td>0</td>\n",
       "      <td>NO</td>\n",
       "      <td>NONE</td>\n",
       "      <td>Good</td>\n",
       "      <td>7 Average</td>\n",
       "      <td>Gas</td>\n",
       "      <td>PRIVATE</td>\n",
       "      <td>1750</td>\n",
       "      <td>0</td>\n",
       "      <td>510</td>\n",
       "      <td>170</td>\n",
       "      <td>1974</td>\n",
       "    </tr>\n",
       "    <tr>\n",
       "      <th>10284</th>\n",
       "      <td>3</td>\n",
       "      <td>2.0</td>\n",
       "      <td>2810</td>\n",
       "      <td>84955</td>\n",
       "      <td>1.0</td>\n",
       "      <td>0</td>\n",
       "      <td>0</td>\n",
       "      <td>NO</td>\n",
       "      <td>NONE</td>\n",
       "      <td>Good</td>\n",
       "      <td>8 Good</td>\n",
       "      <td>Electricity</td>\n",
       "      <td>PRIVATE</td>\n",
       "      <td>1890</td>\n",
       "      <td>1140</td>\n",
       "      <td>800</td>\n",
       "      <td>590</td>\n",
       "      <td>1989</td>\n",
       "    </tr>\n",
       "    <tr>\n",
       "      <th>...</th>\n",
       "      <td>...</td>\n",
       "      <td>...</td>\n",
       "      <td>...</td>\n",
       "      <td>...</td>\n",
       "      <td>...</td>\n",
       "      <td>...</td>\n",
       "      <td>...</td>\n",
       "      <td>...</td>\n",
       "      <td>...</td>\n",
       "      <td>...</td>\n",
       "      <td>...</td>\n",
       "      <td>...</td>\n",
       "      <td>...</td>\n",
       "      <td>...</td>\n",
       "      <td>...</td>\n",
       "      <td>...</td>\n",
       "      <td>...</td>\n",
       "      <td>...</td>\n",
       "    </tr>\n",
       "    <tr>\n",
       "      <th>2276</th>\n",
       "      <td>3</td>\n",
       "      <td>2.0</td>\n",
       "      <td>1530</td>\n",
       "      <td>7178</td>\n",
       "      <td>2.0</td>\n",
       "      <td>0</td>\n",
       "      <td>0</td>\n",
       "      <td>YES</td>\n",
       "      <td>NONE</td>\n",
       "      <td>Good</td>\n",
       "      <td>7 Average</td>\n",
       "      <td>Gas</td>\n",
       "      <td>PUBLIC</td>\n",
       "      <td>1530</td>\n",
       "      <td>0</td>\n",
       "      <td>460</td>\n",
       "      <td>170</td>\n",
       "      <td>1978</td>\n",
       "    </tr>\n",
       "    <tr>\n",
       "      <th>29416</th>\n",
       "      <td>3</td>\n",
       "      <td>1.0</td>\n",
       "      <td>1170</td>\n",
       "      <td>5200</td>\n",
       "      <td>1.0</td>\n",
       "      <td>0</td>\n",
       "      <td>0</td>\n",
       "      <td>NO</td>\n",
       "      <td>NONE</td>\n",
       "      <td>Very Good</td>\n",
       "      <td>6 Low Average</td>\n",
       "      <td>Gas</td>\n",
       "      <td>PUBLIC</td>\n",
       "      <td>1170</td>\n",
       "      <td>0</td>\n",
       "      <td>0</td>\n",
       "      <td>56</td>\n",
       "      <td>1919</td>\n",
       "    </tr>\n",
       "    <tr>\n",
       "      <th>231</th>\n",
       "      <td>3</td>\n",
       "      <td>2.0</td>\n",
       "      <td>1490</td>\n",
       "      <td>8987</td>\n",
       "      <td>1.0</td>\n",
       "      <td>0</td>\n",
       "      <td>0</td>\n",
       "      <td>NO</td>\n",
       "      <td>NONE</td>\n",
       "      <td>Average</td>\n",
       "      <td>7 Average</td>\n",
       "      <td>Gas</td>\n",
       "      <td>PUBLIC</td>\n",
       "      <td>1170</td>\n",
       "      <td>580</td>\n",
       "      <td>440</td>\n",
       "      <td>0</td>\n",
       "      <td>1969</td>\n",
       "    </tr>\n",
       "    <tr>\n",
       "      <th>10806</th>\n",
       "      <td>5</td>\n",
       "      <td>3.5</td>\n",
       "      <td>3380</td>\n",
       "      <td>8400</td>\n",
       "      <td>3.0</td>\n",
       "      <td>0</td>\n",
       "      <td>0</td>\n",
       "      <td>YES</td>\n",
       "      <td>NONE</td>\n",
       "      <td>Average</td>\n",
       "      <td>10 Very Good</td>\n",
       "      <td>Gas</td>\n",
       "      <td>PUBLIC</td>\n",
       "      <td>3380</td>\n",
       "      <td>0</td>\n",
       "      <td>490</td>\n",
       "      <td>660</td>\n",
       "      <td>2017</td>\n",
       "    </tr>\n",
       "    <tr>\n",
       "      <th>9441</th>\n",
       "      <td>3</td>\n",
       "      <td>3.0</td>\n",
       "      <td>2550</td>\n",
       "      <td>3685</td>\n",
       "      <td>1.0</td>\n",
       "      <td>0</td>\n",
       "      <td>0</td>\n",
       "      <td>NO</td>\n",
       "      <td>NONE</td>\n",
       "      <td>Average</td>\n",
       "      <td>10 Very Good</td>\n",
       "      <td>Gas</td>\n",
       "      <td>PUBLIC</td>\n",
       "      <td>1570</td>\n",
       "      <td>1440</td>\n",
       "      <td>460</td>\n",
       "      <td>920</td>\n",
       "      <td>2012</td>\n",
       "    </tr>\n",
       "  </tbody>\n",
       "</table>\n",
       "<p>23631 rows × 18 columns</p>\n",
       "</div>"
      ],
      "text/plain": [
       "       bedrooms  bathrooms  sqft_living  sqft_lot  floors  waterfront  \\\n",
       "9993          4        3.5         4290     55742     2.0           1   \n",
       "24178         5        3.5         3530      5279     2.0           0   \n",
       "25576         3        1.0         1040      7287     1.0           0   \n",
       "11295         3        2.0         1750     19465     1.0           0   \n",
       "10284         3        2.0         2810     84955     1.0           0   \n",
       "...         ...        ...          ...       ...     ...         ...   \n",
       "2276          3        2.0         1530      7178     2.0           0   \n",
       "29416         3        1.0         1170      5200     1.0           0   \n",
       "231           3        2.0         1490      8987     1.0           0   \n",
       "10806         5        3.5         3380      8400     3.0           0   \n",
       "9441          3        3.0         2550      3685     1.0           0   \n",
       "\n",
       "       greenbelt nuisance       view  condition          grade  heat_source  \\\n",
       "9993           0      YES  EXCELLENT       Good   11 Excellent          Gas   \n",
       "24178          0       NO       NONE    Average         8 Good          Gas   \n",
       "25576          0       NO       NONE  Very Good      7 Average  Electricity   \n",
       "11295          0       NO       NONE       Good      7 Average          Gas   \n",
       "10284          0       NO       NONE       Good         8 Good  Electricity   \n",
       "...          ...      ...        ...        ...            ...          ...   \n",
       "2276           0      YES       NONE       Good      7 Average          Gas   \n",
       "29416          0       NO       NONE  Very Good  6 Low Average          Gas   \n",
       "231            0       NO       NONE    Average      7 Average          Gas   \n",
       "10806          0      YES       NONE    Average   10 Very Good          Gas   \n",
       "9441           0       NO       NONE    Average   10 Very Good          Gas   \n",
       "\n",
       "      sewer_system  sqft_above  sqft_basement  sqft_garage  sqft_patio  \\\n",
       "9993        PUBLIC        2970           1480          750        1315   \n",
       "24178       PUBLIC        2550            980          420         280   \n",
       "25576       PUBLIC        1040              0          300           0   \n",
       "11295      PRIVATE        1750              0          510         170   \n",
       "10284      PRIVATE        1890           1140          800         590   \n",
       "...            ...         ...            ...          ...         ...   \n",
       "2276        PUBLIC        1530              0          460         170   \n",
       "29416       PUBLIC        1170              0            0          56   \n",
       "231         PUBLIC        1170            580          440           0   \n",
       "10806       PUBLIC        3380              0          490         660   \n",
       "9441        PUBLIC        1570           1440          460         920   \n",
       "\n",
       "       yr_built  \n",
       "9993       1978  \n",
       "24178      2022  \n",
       "25576      1959  \n",
       "11295      1974  \n",
       "10284      1989  \n",
       "...         ...  \n",
       "2276       1978  \n",
       "29416      1919  \n",
       "231        1969  \n",
       "10806      2017  \n",
       "9441       2012  \n",
       "\n",
       "[23631 rows x 18 columns]"
      ]
     },
     "execution_count": 11,
     "metadata": {},
     "output_type": "execute_result"
    }
   ],
   "source": [
    "X_train"
   ]
  },
  {
   "cell_type": "code",
   "execution_count": 12,
   "id": "ec419aa8-0483-444d-a0eb-687e222b0151",
   "metadata": {
    "scrolled": true
   },
   "outputs": [
    {
     "data": {
      "text/plain": [
       "9993     2400000.0\n",
       "24178     986000.0\n",
       "25576     742115.0\n",
       "11295     505000.0\n",
       "10284     725000.0\n",
       "           ...    \n",
       "2276     1050000.0\n",
       "29416     485000.0\n",
       "231      1200000.0\n",
       "10806    3000000.0\n",
       "9441     1800000.0\n",
       "Name: price, Length: 23631, dtype: float64"
      ]
     },
     "execution_count": 12,
     "metadata": {},
     "output_type": "execute_result"
    }
   ],
   "source": [
    "y_train"
   ]
  },
  {
   "cell_type": "code",
   "execution_count": 13,
   "id": "653d6b11-012a-4a0e-9b39-395fe505a8cd",
   "metadata": {},
   "outputs": [
    {
     "data": {
      "text/plain": [
       "{'preprocessor': ColumnTransformer(remainder='passthrough',\n",
       "                   transformers=[('ohe', OneHotEncoder(drop='first'),\n",
       "                                  ['waterfront', 'greenbelt', 'heat_source',\n",
       "                                   'condition', 'view', 'nuisance', 'grade',\n",
       "                                   'sewer_system']),\n",
       "                                 ('ssc', StandardScaler(),\n",
       "                                  ['bedrooms', 'bathrooms', 'sqft_living',\n",
       "                                   'sqft_lot', 'floors', 'sqft_above',\n",
       "                                   'sqft_basement', 'sqft_garage', 'sqft_patio',\n",
       "                                   'yr_built'])])}"
      ]
     },
     "execution_count": 13,
     "metadata": {},
     "output_type": "execute_result"
    }
   ],
   "source": [
    "encoders = dataholder.get_data_encoders()\n",
    "encoders"
   ]
  },
  {
   "cell_type": "code",
   "execution_count": null,
   "id": "8deb6a91-5784-4268-8c4f-2831cea24cf1",
   "metadata": {},
   "outputs": [],
   "source": []
  },
  {
   "cell_type": "code",
   "execution_count": 21,
   "id": "cdc85056-8aa1-444d-92b9-273679ea24d4",
   "metadata": {},
   "outputs": [],
   "source": [
    "dataholder.set_modeling_parameters(\n",
    "    hyperparameter_tuning = True,\n",
    "    extended_models = True,\n",
    "    cv = 5,\n",
    "    random_state = 42\n",
    ")\n",
    "\n",
    "modeler = AutomaticModeler(dataholder = dataholder)"
   ]
  },
  {
   "cell_type": "code",
   "execution_count": 22,
   "id": "40f32cba-1dbe-49da-9989-ad5d144fde62",
   "metadata": {
    "scrolled": true
   },
   "outputs": [
    {
     "name": "stderr",
     "output_type": "stream",
     "text": [
      "/home/josh/.local/lib/python3.12/site-packages/sklearn/linear_model/_coordinate_descent.py:695: ConvergenceWarning: Objective did not converge. You might want to increase the number of iterations, check the scale of the features or consider increasing regularisation. Duality gap: 2.341e+12, tolerance: 1.480e+12\n",
      "  model = cd_fast.enet_coordinate_descent(\n",
      "/home/josh/.local/lib/python3.12/site-packages/sklearn/linear_model/_coordinate_descent.py:695: ConvergenceWarning: Objective did not converge. You might want to increase the number of iterations, check the scale of the features or consider increasing regularisation. Duality gap: 1.681e+12, tolerance: 1.442e+12\n",
      "  model = cd_fast.enet_coordinate_descent(\n"
     ]
    }
   ],
   "source": [
    "modeler.fit_and_score_model()"
   ]
  },
  {
   "cell_type": "code",
   "execution_count": 23,
   "id": "c62b7813-e852-487c-baa1-9a0bac1c5723",
   "metadata": {},
   "outputs": [],
   "source": [
    "best_model = dataholder.get_best_model()\n",
    "predictions = dataholder.get_predictions()\n",
    "scores = dataholder.get_scores()"
   ]
  },
  {
   "cell_type": "code",
   "execution_count": null,
   "id": "ba34ce48-1a3f-4b82-8c38-be6d5e0113f0",
   "metadata": {},
   "outputs": [],
   "source": []
  },
  {
   "cell_type": "code",
   "execution_count": 24,
   "id": "180e44a9-5aad-4225-b41c-ac7a63cc9e16",
   "metadata": {
    "scrolled": true
   },
   "outputs": [],
   "source": [
    "evaluator = ModelEvaluator(dataholder = dataholder)"
   ]
  },
  {
   "cell_type": "code",
   "execution_count": 25,
   "id": "38b0aaa2-6fe8-4a1f-9dc0-5e41268cbcb4",
   "metadata": {},
   "outputs": [
    {
     "data": {
      "text/markdown": [
       "**Rating: 8.5 / 10**\n",
       "\n",
       "Overall, the regression model performed well, but there is room for improvement. The model's purpose is to predict the price of a house based on various features.\n",
       "\n",
       "**Hypothesis Testing (f-stat: 790.87, f-p-value: 0.00)**\n",
       "\n",
       "The model's F-statistic is 790.87, and the F-p-value is extremely low (1.11e-16). This indicates that the model's coefficients are significantly different from zero, and the model is a good fit for the data.\n",
       "\n",
       "**Model Fit (train R^2: 0.51, train RSME: 613464.07, test R^2: 0.53, test RSME: 537755.61)**\n",
       "\n",
       "The model's R^2 score is 0.51 for the training data and 0.53 for the testing data. This indicates that the model explains about 51% of the variance in the training data and 53% of the variance in the testing data. The RMSE values are 613464.07 for the training data and 537755.61 for the testing data. The model is not overfitting, as the train R^2 is lower than the test R^2, and the train RSME is higher than the test RSME. The model is not underfitting, as the R^2 scores are above 0.5. R^2 measures the proportion of the variance in the target variable that is explained by the model, and RMSE measures the average difference between the predicted and actual values.\n",
       "\n",
       "**Top 5 Most Significant Features**\n",
       "\n",
       "1. **grade_12 Luxury (p-value: 0.00, coefficient: 1.79e+06):** This feature is the most significant, indicating that a luxury grade increases the price of a house by approximately 1.79 million.\n",
       "2. **waterfront_1 (p-value: 0.00, coefficient: 8.55e+05):** Having a waterfront property increases the price by approximately 855,000.\n",
       "3. **view_EXCELLENT (p-value: 0.00, coefficient: 6.34e+05):** A view of EXCELLENT quality increases the price by approximately 634,000.\n",
       "4. **sewer_system_PUBLIC (p-value: 0.00, coefficient: 2.03e+05):** Having a PUBLIC sewer system increases the price by approximately 203,000.\n",
       "5. **sqft_above (p-value: 0.00, coefficient: 1.63e+05):** An increase in sqft_above increases the price by approximately 163,000.\n",
       "\n",
       "**Explanation of the Top 5 Most Significant Features**\n",
       "\n",
       "These features are the most significant because they have the lowest p-values and the highest coefficients. The grade of the house, having a waterfront property, having an excellent view, having a public sewer system, and the square footage above ground level are all important factors that increase the price of a house.\n",
       "\n",
       "**Suggestions for Model Improvement**\n",
       "\n",
       "1. Consider adding more features to the model, such as the age of the house, the number of bedrooms and bathrooms, and the type of heating and cooling system.\n",
       "2. Check for multicollinearity among the features and remove any highly correlated features.\n",
       "3. Consider using a different regression algorithm, such as Ridge or Lasso regression, to reduce overfitting.\n",
       "4. Split the data into training and testing sets again and re-run the model to ensure that the results are consistent.\n",
       "5. Consider using a more robust measure of model performance, such as mean absolute error (MAE) or mean absolute percentage error (MAPE), in addition to R^2 and RMSE."
      ],
      "text/plain": [
       "<IPython.core.display.Markdown object>"
      ]
     },
     "metadata": {},
     "output_type": "display_data"
    },
    {
     "data": {
      "image/png": "[encoded data removed]",
      "text/plain": [
       "<Figure size 1000x600 with 1 Axes>"
      ]
     },
     "metadata": {},
     "output_type": "display_data"
    },
    {
     "data": {
      "text/markdown": [
       "The residual plot shows the difference between the actual values and the predicted values of a model. In this case, the model is trying to predict the price of something.\n",
       "\n",
       "The actual values are the \"true\" prices, and the predicted values are the prices that the model thinks they should be. The residual is the difference between these two values.\n",
       "\n",
       "For example, if the actual price is $100 and the predicted price is $90, the residual would be $10, which means that the model underestimated the price by $10.\n",
       "\n",
       "In this residual plot, the residuals are listed in order from smallest to largest. The first residual is -2, the second is -300,000, and so on.\n",
       "\n",
       "I would rate the contents of this residual plot as an 8 out of 10. The plot shows a wide range of residuals, from very small to very large, which suggests that the model is not doing a great job of predicting the prices. Some of the residuals are very large, which could indicate that the model is making big mistakes. However, without more context, it's hard to say exactly what's going on."
      ],
      "text/plain": [
       "<IPython.core.display.Markdown object>"
      ]
     },
     "metadata": {},
     "output_type": "display_data"
    }
   ],
   "source": [
    "evaluator.evaluate_regression_model()"
   ]
  },
  {
   "cell_type": "code",
   "execution_count": null,
   "id": "203148d0-7a0d-46e9-a768-0d6280868c4a",
   "metadata": {},
   "outputs": [],
   "source": []
  },
  {
   "cell_type": "code",
   "execution_count": 19,
   "id": "db2dce8b-7e58-4dc2-9534-1fb84f644a4e",
   "metadata": {},
   "outputs": [],
   "source": [
    "# df = pd.read_csv('./test.csv')\n",
    "# df.columns"
   ]
  },
  {
   "cell_type": "code",
   "execution_count": 20,
   "id": "f679e0f2-4c45-4edc-8b60-1ef82f92657a",
   "metadata": {},
   "outputs": [],
   "source": [
    "# df.PaymentMethod.value_counts()"
   ]
  },
  {
   "cell_type": "code",
   "execution_count": null,
   "id": "5d2267c2-f5df-4deb-a2cf-f7316fc1a5da",
   "metadata": {},
   "outputs": [],
   "source": []
  }
 ],
 "metadata": {
  "kernelspec": {
   "display_name": "Python 3 (ipykernel)",
   "language": "python",
   "name": "python3"
  },
  "language_info": {
   "codemirror_mode": {
    "name": "ipython",
    "version": 3
   },
   "file_extension": ".py",
   "mimetype": "text/x-python",
   "name": "python",
   "nbconvert_exporter": "python",
   "pygments_lexer": "ipython3",
   "version": "3.12.3"
  }
 },
 "nbformat": 4,
 "nbformat_minor": 5
}
