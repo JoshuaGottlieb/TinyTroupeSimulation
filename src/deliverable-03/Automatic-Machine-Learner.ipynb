{
 "cells": [
  {
   "cell_type": "markdown",
   "id": "a868f193-ce35-4804-ae1c-d8acaff738d8",
   "metadata": {},
   "source": [
    "## Testing Chatbot"
   ]
  },
  {
   "cell_type": "code",
   "execution_count": 1,
   "id": "48b118e0-d0b4-473f-b9f5-023da614d14b",
   "metadata": {},
   "outputs": [],
   "source": [
    "from modules.interface import *"
   ]
  },
  {
   "cell_type": "code",
   "execution_count": 2,
   "id": "44a02752-29db-4c00-bea1-68cec7445192",
   "metadata": {},
   "outputs": [],
   "source": [
    "chatbot = ModelBot()"
   ]
  },
  {
   "cell_type": "code",
   "execution_count": 3,
   "id": "1c62d325-318e-4b4c-a7c5-c46321677a64",
   "metadata": {},
   "outputs": [
    {
     "name": "stdout",
     "output_type": "stream",
     "text": [
      "System: This is a helper agent designed to automatically perform basic modeling tasks for you.\n",
      "System: This agent is powered by Llama 3 and is not a replacement for a human data scientist.\n",
      "System: To get a list of functions available to this agent, type \"list functions\".\n",
      "System: If you want to restart the chat, type \"clear data\".\n",
      "System: You can exit the chat at any time by typing EXIT.\n",
      "Bot: How can I help you today?\n"
     ]
    },
    {
     "name": "stdin",
     "output_type": "stream",
     "text": [
      "User:  clear_history\n"
     ]
    },
    {
     "name": "stdout",
     "output_type": "stream",
     "text": [
      "User: clear_history\n",
      "Bot: I've cleared the conversation history. Let's start fresh! How can I assist you today?\n"
     ]
    },
    {
     "name": "stdin",
     "output_type": "stream",
     "text": [
      "User:  clear history\n"
     ]
    },
    {
     "name": "stdout",
     "output_type": "stream",
     "text": [
      "User: clear history\n",
      "Bot: Intent detected for API call: clear_history\n",
      "Bot: Attempting to call API function clear_history.\n",
      "Bot: All data cleared and ready for new function calls.\n",
      "Bot: Successfully processed API call. How else may I help you?\n"
     ]
    },
    {
     "name": "stdin",
     "output_type": "stream",
     "text": [
      "User:  load csv\n"
     ]
    },
    {
     "name": "stdout",
     "output_type": "stream",
     "text": [
      "User: load csv\n",
      "Bot: Intent detected for API call: load_csv_and_select_target\n",
      "Bot: Attempting to call API function load_csv_and_select_target.\n"
     ]
    },
    {
     "name": "stdin",
     "output_type": "stream",
     "text": [
      "Please enter csv_path (datatype: str):  ./regression_test.csv\n"
     ]
    },
    {
     "name": "stdout",
     "output_type": "stream",
     "text": [
      "User: csv_path = ./regression_test.csv\n",
      "Bot: Dataframe successfully loaded.\n",
      "Bot: Columns successfully normalized.\n",
      "The current version cannot support date or time columns. These will be dropped automatically.\n",
      "Bot: Columns successfully converted.\n",
      "Bot: The possible columns are:\n",
      "['price', 'bedrooms', 'bathrooms', 'sqft_living', 'sqft_lot', 'floors', 'waterfront', 'greenbelt', 'nuisance', 'view', 'condition', 'grade', 'heat_source', 'sewer_system', 'sqft_above', 'sqft_basement', 'sqft_garage', 'sqft_patio', 'yr_built', 'yr_renovated']\n"
     ]
    },
    {
     "name": "stdin",
     "output_type": "stream",
     "text": [
      "Please select a column to use as the target variable. price\n"
     ]
    },
    {
     "name": "stdout",
     "output_type": "stream",
     "text": [
      "User: price\n",
      "Bot: price set as the target column.\n",
      "Bot: Successfully processed API call. How else may I help you?\n"
     ]
    },
    {
     "name": "stdin",
     "output_type": "stream",
     "text": [
      "User:  clear history\n"
     ]
    },
    {
     "name": "stdout",
     "output_type": "stream",
     "text": [
      "User: clear history\n",
      "Bot: Intent detected for API call: clear_history\n",
      "Bot: Attempting to call API function clear_history.\n",
      "Bot: All data cleared and ready for new function calls.\n",
      "Bot: Successfully processed API call. How else may I help you?\n"
     ]
    },
    {
     "name": "stdin",
     "output_type": "stream",
     "text": [
      "User:  load csv\n"
     ]
    },
    {
     "name": "stdout",
     "output_type": "stream",
     "text": [
      "User: load csv\n",
      "Bot: Intent detected for API call: load_csv_and_select_target\n",
      "Bot: Attempting to call API function load_csv_and_select_target.\n"
     ]
    },
    {
     "name": "stdin",
     "output_type": "stream",
     "text": [
      "Please enter csv_path (datatype: str):  ./classification_test.csv\n"
     ]
    },
    {
     "name": "stdout",
     "output_type": "stream",
     "text": [
      "User: csv_path = ./classification_test.csv\n",
      "Bot: Dataframe successfully loaded.\n",
      "Bot: Columns successfully normalized.\n",
      "The current version cannot support date or time columns. These will be dropped automatically.\n",
      "Bot: Columns successfully converted.\n",
      "Bot: The possible columns are:\n",
      "['gender', 'senior_citizen', 'partner', 'dependents', 'tenure', 'phone_service', 'multiple_lines', 'internet_service', 'online_security', 'online_backup', 'device_protection', 'tech_support', 'streaming_tv', 'streaming_movies', 'contract', 'paperless_billing', 'payment_method', 'monthly_charges', 'churn']\n"
     ]
    },
    {
     "name": "stdin",
     "output_type": "stream",
     "text": [
      "Please select a column to use as the target variable. exit\n"
     ]
    },
    {
     "name": "stdout",
     "output_type": "stream",
     "text": [
      "User: exit\n",
      "Bot: Target column not selected, exiting.\n",
      "Bot: Something went wrong trying to execute load_csv_and_select_target, so please try again.\n"
     ]
    },
    {
     "name": "stdin",
     "output_type": "stream",
     "text": [
      "User:  exit\n"
     ]
    },
    {
     "name": "stdout",
     "output_type": "stream",
     "text": [
      "User: exit\n",
      "Bot: Thank you for using this helper agent!\n"
     ]
    }
   ],
   "source": [
    "chatbot.chat()"
   ]
  },
  {
   "cell_type": "code",
   "execution_count": 4,
   "id": "3ced1b8d-e9c1-42e5-b461-0526c4da8cd3",
   "metadata": {},
   "outputs": [
    {
     "data": {
      "text/plain": [
       "[{'role': 'system',\n",
       "  'content': 'This is a helper agent designed to automatically perform basic modeling tasks for you.'},\n",
       " {'role': 'system',\n",
       "  'content': 'This agent is powered by Llama 3 and is not a replacement for a human data scientist.'},\n",
       " {'role': 'system',\n",
       "  'content': 'To get a list of functions available to this agent, type \"list functions\".'},\n",
       " {'role': 'system',\n",
       "  'content': 'If you want to restart the chat, type \"clear data\".'},\n",
       " {'role': 'system',\n",
       "  'content': 'You can exit the chat at any time by typing EXIT.'},\n",
       " {'role': 'bot', 'content': 'How can I help you today?'},\n",
       " {'role': 'user', 'content': 'clear_history'},\n",
       " {'role': 'user', 'content': 'clear_history'},\n",
       " {'role': 'detect_api', 'content': '', 'success': False},\n",
       " {'role': 'bot',\n",
       "  'content': \"I've cleared the conversation history. Let's start fresh! How can I assist you today?\"},\n",
       " {'role': 'user', 'content': 'clear history'},\n",
       " {'role': 'user', 'content': 'clear history'},\n",
       " {'role': 'bot', 'content': 'Intent detected for API call: clear_history'},\n",
       " {'role': 'detect_api', 'content': 'clear_history', 'success': True},\n",
       " {'role': 'bot', 'content': 'Attempting to call API function clear_history.'},\n",
       " {'role': 'bot',\n",
       "  'content': 'All data cleared and ready for new function calls.'},\n",
       " {'role': 'api_call', 'content': 'clear_history', 'success': True},\n",
       " {'role': 'bot',\n",
       "  'content': 'Successfully processed API call. How else may I help you?'},\n",
       " {'role': 'user', 'content': 'load csv'},\n",
       " {'role': 'user', 'content': 'load csv'},\n",
       " {'role': 'bot',\n",
       "  'content': 'Intent detected for API call: load_csv_and_select_target'},\n",
       " {'role': 'detect_api',\n",
       "  'content': 'load_csv_and_select_target',\n",
       "  'success': True},\n",
       " {'role': 'bot',\n",
       "  'content': 'Attempting to call API function load_csv_and_select_target.'},\n",
       " {'role': 'user', 'content': 'csv_path = ./regression_test.csv'},\n",
       " {'role': 'bot', 'content': 'Dataframe successfully loaded.'},\n",
       " {'role': 'bot', 'content': 'Columns successfully normalized.'},\n",
       " {'role': 'bot', 'content': 'Columns successfully converted.'},\n",
       " {'role': 'bot',\n",
       "  'content': \"The possible columns are:\\n['price', 'bedrooms', 'bathrooms', 'sqft_living', 'sqft_lot', 'floors', 'waterfront', 'greenbelt', 'nuisance', 'view', 'condition', 'grade', 'heat_source', 'sewer_system', 'sqft_above', 'sqft_basement', 'sqft_garage', 'sqft_patio', 'yr_built', 'yr_renovated']\"},\n",
       " {'role': 'user', 'content': 'price'},\n",
       " {'role': 'bot', 'content': 'price set as the target column.'},\n",
       " {'role': 'api_call',\n",
       "  'content': 'load_csv_and_select_target',\n",
       "  'success': True},\n",
       " {'role': 'bot',\n",
       "  'content': 'Successfully processed API call. How else may I help you?'},\n",
       " {'role': 'user', 'content': 'clear history'},\n",
       " {'role': 'user', 'content': 'clear history'},\n",
       " {'role': 'bot', 'content': 'Intent detected for API call: clear_history'},\n",
       " {'role': 'detect_api', 'content': 'clear_history', 'success': True},\n",
       " {'role': 'bot', 'content': 'Attempting to call API function clear_history.'},\n",
       " {'role': 'bot',\n",
       "  'content': 'All data cleared and ready for new function calls.'},\n",
       " {'role': 'api_call', 'content': 'clear_history', 'success': True},\n",
       " {'role': 'bot',\n",
       "  'content': 'Successfully processed API call. How else may I help you?'},\n",
       " {'role': 'user', 'content': 'load csv'},\n",
       " {'role': 'user', 'content': 'load csv'},\n",
       " {'role': 'bot',\n",
       "  'content': 'Intent detected for API call: load_csv_and_select_target'},\n",
       " {'role': 'detect_api',\n",
       "  'content': 'load_csv_and_select_target',\n",
       "  'success': True},\n",
       " {'role': 'bot',\n",
       "  'content': 'Attempting to call API function load_csv_and_select_target.'},\n",
       " {'role': 'user', 'content': 'csv_path = ./classification_test.csv'},\n",
       " {'role': 'bot', 'content': 'Dataframe successfully loaded.'},\n",
       " {'role': 'bot', 'content': 'Columns successfully normalized.'},\n",
       " {'role': 'bot', 'content': 'Columns successfully converted.'},\n",
       " {'role': 'bot',\n",
       "  'content': \"The possible columns are:\\n['gender', 'senior_citizen', 'partner', 'dependents', 'tenure', 'phone_service', 'multiple_lines', 'internet_service', 'online_security', 'online_backup', 'device_protection', 'tech_support', 'streaming_tv', 'streaming_movies', 'contract', 'paperless_billing', 'payment_method', 'monthly_charges', 'churn']\"},\n",
       " {'role': 'user', 'content': 'exit'},\n",
       " {'role': 'bot', 'content': 'Target column not selected, exiting.'},\n",
       " {'role': 'api_call',\n",
       "  'content': 'load_csv_and_select_target',\n",
       "  'success': False},\n",
       " {'role': 'bot',\n",
       "  'content': 'Something went wrong trying to execute load_csv_and_select_target, so please try again.'},\n",
       " {'role': 'user', 'content': 'exit'},\n",
       " {'role': 'bot', 'content': 'Thank you for using this helper agent!'}]"
      ]
     },
     "execution_count": 4,
     "metadata": {},
     "output_type": "execute_result"
    }
   ],
   "source": [
    "chatbot.event_stream"
   ]
  },
  {
   "cell_type": "markdown",
   "id": "0f5f5d12-6e58-48ba-bdc2-ba4ccb6c366d",
   "metadata": {},
   "source": [
    "## Programatically define json metadata"
   ]
  },
  {
   "cell_type": "code",
   "execution_count": 5,
   "id": "71dbe28d-3c79-4271-b2ee-1f0a7794fe5d",
   "metadata": {},
   "outputs": [],
   "source": [
    "import json\n",
    "metadata = {}"
   ]
  },
  {
   "cell_type": "code",
   "execution_count": 6,
   "id": "19fadc28-44e0-4f4d-b7db-0d11618de37c",
   "metadata": {},
   "outputs": [],
   "source": [
    "metadata[\"api_help\"] = {\n",
    "    \"trigger_word\": [\n",
    "        \"show api\",\n",
    "        \"api help\",\n",
    "        \"help api\",\n",
    "        \"list functions\",\n",
    "        \"show functions\",\n",
    "        \"api summary\",\n",
    "        \"list endpoints\",\n",
    "        \"show endpoints\",\n",
    "        \"available functions\",\n",
    "        \"function list\",\n",
    "        \"api overview\",\n",
    "        \"display api\"\n",
    "    ],\n",
    "    \"sample_payload\": {},\n",
    "    \"prerequisite\": \"null\",\n",
    "    \"description\": {\n",
    "        \"function\": \"Displays a summary of all available API functions, including their name, \"\n",
    "        \"prerequisites, trigger phrases, description, and user input expectations.\",\n",
    "        \"input\": \"None\"\n",
    "    }\n",
    "}"
   ]
  },
  {
   "cell_type": "code",
   "execution_count": 7,
   "id": "3c5097a2-5d9f-45c2-b1d6-affa5a09d3ff",
   "metadata": {},
   "outputs": [],
   "source": [
    "metadata[\"clear_history\"] = {\n",
    "    \"trigger_word\": [\n",
    "        \"clear history\",\n",
    "        \"reset history\",\n",
    "        \"delete history\",\n",
    "        \"erase history\",\n",
    "        \"remove history\",\n",
    "        \"clear data\",\n",
    "        \"reset data\",\n",
    "        \"delete data\",\n",
    "        \"start fresh\",\n",
    "        \"forget everything\",\n",
    "        \"wipe history\"\n",
    "    ],\n",
    "    \"sample_payload\": {},\n",
    "    \"prerequisite\": \"null\",\n",
    "    \"description\": {\n",
    "        \"function\": \"Clears all stored data and model state from the session, except for persistent metadata.\",\n",
    "        \"input\": \"None\"\n",
    "    }\n",
    "}"
   ]
  },
  {
   "cell_type": "code",
   "execution_count": 8,
   "id": "2e8d20ee-1f45-4d8d-8557-17bdec9a14c5",
   "metadata": {},
   "outputs": [],
   "source": [
    "metadata[\"load_csv_and_select_target\"] = {\n",
    "    \"trigger_word\": [\n",
    "        \"upload csv\",\n",
    "        \"load dataset\",\n",
    "        \"import csv\",\n",
    "        \"read csv\",\n",
    "        \"load csv\",\n",
    "        \"open csv\",\n",
    "        \"process csv\",\n",
    "        \"parse csv\",\n",
    "        \"use csv\",\n",
    "        \"access csv\",\n",
    "        \"upload file\",\n",
    "        \"read file\",\n",
    "        \"open file\",\n",
    "        \"load file\"\n",
    "    ],\n",
    "    \"sample_payload\": {\n",
    "        \"csv_path\": \"str\"\n",
    "    },\n",
    "    \"prerequisite\": \"null\",\n",
    "    \"description\": {\n",
    "        \"function\": \n",
    "            \"Loads a user-specified csv file. Prompts the user to select a column\"\n",
    "            \" to use denote as a target variable for further modeling.\",\n",
    "        \"input\": \"csv_path: A string denoting the relative file path used to locate the csv file.\"\n",
    "    }\n",
    "}"
   ]
  },
  {
   "cell_type": "code",
   "execution_count": 9,
   "id": "34a282e0-8e4b-4e4b-b07d-25d718c5313a",
   "metadata": {},
   "outputs": [],
   "source": [
    "metadata[\"perform_regression\"] = {\n",
    "    \"trigger_word\": [\n",
    "        \"run regression\",\n",
    "        \"do regression\",\n",
    "        \"perform regression\",\n",
    "        \"linear regression\",\n",
    "        \"regression analysis\",\n",
    "        \"start regression\",\n",
    "        \"train regression\",\n",
    "        \"build model\",\n",
    "        \"fit model\",\n",
    "        \"predict values\",\n",
    "        \"regression model\",\n",
    "        \"apply regression\"\n",
    "    ],\n",
    "    \"sample_payload\": {\n",
    "        \"cleaning_strictness\": \"int\",\n",
    "        \"hyperparameter_tuning\": \"bool\",\n",
    "        \"extended_models\": \"bool\"\n",
    "    },\n",
    "    \"prerequisite\": {\n",
    "        \"data\": {\n",
    "            \"X\": \"pd.DataFrame\",\n",
    "            \"y\": \"pd.Series\",\n",
    "        },\n",
    "        \"function\": \"load_csv_and_select_target\",\n",
    "        \"reason\": \"CSV has not been loaded.\"\n",
    "    },\n",
    "    \"description\": {\n",
    "        \"function\": \"Performs regression analysis on the dataset, including validation, preprocessing,\"\n",
    "                \" model fitting, and handling of user input in case of task misclassification.\",\n",
    "        \"input\": \"\\n\".join([\n",
    "            \"cleaning_strictness: 0, 1, or 2, denoting the strictness to apply during preprocessing.\",\n",
    "            \"\\t- 0: Basic cleaning (only imputation).\",\n",
    "            \"\\t- 1: Medium strictness (prune outliers and impute).\",\n",
    "            \"\\t- 2: High strictness (detect and relabel outliers in addition to pruning and imputation).\",\n",
    "            \"hyperparameter_tuning: 0 (False) or 1 (True), denoting whether to try to tune models.\",\n",
    "            \"extended_models: 0 (False) or 1 (True), denoting whether to try extra models with higher complexity.\",\n",
    "            \"\\t- 0: Only Linear Regression is tested.\",\n",
    "            \"\\t- 1: Linear Regresion, Polynomial (degree 3) Lasso Regresion, and ElasticNet Regression are tested.\"\n",
    "        ])\n",
    "    }\n",
    "}"
   ]
  },
  {
   "cell_type": "code",
   "execution_count": 10,
   "id": "d9a419c7-ffa0-4579-af75-6d0e575eb706",
   "metadata": {},
   "outputs": [],
   "source": [
    "metadata[\"perform_classification\"] = {\n",
    "    \"trigger_word\": [\n",
    "        \"run classification\",\n",
    "        \"do classification\",\n",
    "        \"perform classification\",\n",
    "        \"classification task\",\n",
    "        \"start classification\",\n",
    "        \"train classifier\",\n",
    "        \"build classifier\",\n",
    "        \"fit classifier\",\n",
    "        \"predict classes\",\n",
    "        \"classification model\",\n",
    "        \"apply classification\",\n",
    "        \"logistic regression\",\n",
    "        \"decision tree\",\n",
    "        \"decision trees\",\n",
    "        \"random forest\"\n",
    "    ],\n",
    "    \"sample_payload\": {\n",
    "        \"cleaning_strictness\": \"int\",\n",
    "        \"hyperparameter_tuning\": \"bool\",\n",
    "        \"extended_models\": \"bool\"\n",
    "    },\n",
    "    \"prerequisite\": {\n",
    "        \"data\": {\n",
    "            \"X\": \"pd.DataFrame\",\n",
    "            \"y\": \"pd.Series\",\n",
    "        },\n",
    "        \"function\": \"load_csv_and_select_target\",\n",
    "        \"reason\": \"CSV has not been loaded.\"\n",
    "    },\n",
    "    \"description\": {\n",
    "        \"function\": \"Executes a classification workflow by validating the target variable, \"\n",
    "        \"preprocessing the data, and training a classification model. Includes logic to handle \"\n",
    "        \"cases where the data might be better suited for regression or discretization.\",\n",
    "        \"input\": \"\\n\".join([\n",
    "            \"cleaning_strictness: 0, 1, or 2, denoting the strictness to apply during preprocessing.\",\n",
    "            \"\\t- 0: Basic cleaning (only imputation).\",\n",
    "            \"\\t- 1: Medium strictness (prune outliers and impute).\",\n",
    "            \"\\t- 2: High strictness (detect and relabel outliers in addition to pruning and imputation).\",\n",
    "            \"hyperparameter_tuning: 0 (False) or 1 (True), denoting whether to try to tune models.\",\n",
    "            \"extended_models: 0 (False) or 1 (True), denoting whether to try extra models with higher complexity.\",\n",
    "            \"\\t- 0: Only Logistic Regression is tested.\",\n",
    "            \"\\t- 1: Logistic Regression, Decision Trees, and Random Forests are tested.\"\n",
    "        ])\n",
    "    }\n",
    "}"
   ]
  },
  {
   "cell_type": "code",
   "execution_count": 11,
   "id": "73990d62-c894-4016-8686-76bd8d945e7c",
   "metadata": {},
   "outputs": [],
   "source": [
    "metadata[\"regression_report\"] = {\n",
    "        \"trigger_word\": [\n",
    "            \"evaluate regression\",\n",
    "            \"regression summary\",\n",
    "            \"report regression\",\n",
    "            \"analyze regression\",\n",
    "            \"test regression\",\n",
    "            \"show regression\",\n",
    "            \"regression results\"\n",
    "        ],\n",
    "    \"sample_payload\": {\n",
    "        \"save_pdf\": \"bool\",\n",
    "        \"save_path\": \"str\"\n",
    "    },\n",
    "    \"prerequisite\": {\n",
    "        \"data\": {\n",
    "            \"predictions\": \"dict\",\n",
    "            \"scores\": \"dict\",\n",
    "        },\n",
    "        \"function\": \"perform_regression\",\n",
    "        \"reason\": \"Regression model has not been fit.\"\n",
    "    },\n",
    "    \"description\": {\n",
    "        \"function\": \"Evaluates a trained regression model using statistical analysis, diagnostic visualizations,\"\n",
    "        \" and a natural language explanation generated by a language model.\",\n",
    "        \"input\": \"\\n\".join([\n",
    "            \"save_pdf: 0 (False) or 1 (True), denoting whether to save the report to a pdf.\",\n",
    "            \"save_path: A string denoting the relative file path where to save the pdf.\"\n",
    "        ])\n",
    "    }\n",
    "}"
   ]
  },
  {
   "cell_type": "code",
   "execution_count": 12,
   "id": "c89d0aa1-004e-49ad-93e4-ee417a4b2d3f",
   "metadata": {},
   "outputs": [],
   "source": [
    "metadata[\"classification_report\"] = {\n",
    "        \"trigger_word\": [\n",
    "            \"evaluate classifier\",\n",
    "            \"classifier report\",\n",
    "            \"report classification\",\n",
    "            \"classification summary\",\n",
    "            \"analyze classifier\",\n",
    "            \"test classifier\",\n",
    "            \"show classification\",\n",
    "            \"classification results\"\n",
    "        ],\n",
    "    \"sample_payload\": {\n",
    "        \"save_pdf\": \"bool\",\n",
    "        \"save_path\": \"str\"\n",
    "    },\n",
    "    \"prerequisite\": {\n",
    "        \"data\": {\n",
    "            \"predictions\": \"dict\",\n",
    "            \"scores\": \"dict\",\n",
    "        },\n",
    "        \"function\": \"perform_classification\",\n",
    "        \"reason\": \"Classification model has not been fit.\"\n",
    "    },\n",
    "    \"description\": {\n",
    "        \"function\": \"Executes a classification evaluation workflow by computing performance metrics, \"\n",
    "        \"visualizing confusion matrices, and generating a comprehensive model analysis using a language model.\",\n",
    "        \"input\": \"\\n\".join([\n",
    "            \"save_pdf: 0 (False) or 1 (True), denoting whether to save the report to a pdf.\",\n",
    "            \"save_path: A string denoting the relative file path where to save the pdf.\"\n",
    "        ])\n",
    "    }\n",
    "}"
   ]
  },
  {
   "cell_type": "code",
   "execution_count": 13,
   "id": "f9d7cbce-a910-4614-a820-d5b3a4a2d08a",
   "metadata": {},
   "outputs": [],
   "source": [
    "with open(\"modules/metadata.json\", \"w\") as f:\n",
    "    json.dump(metadata, f)"
   ]
  }
 ],
 "metadata": {
  "kernelspec": {
   "display_name": "Python 3 (ipykernel)",
   "language": "python",
   "name": "python3"
  },
  "language_info": {
   "codemirror_mode": {
    "name": "ipython",
    "version": 3
   },
   "file_extension": ".py",
   "mimetype": "text/x-python",
   "name": "python",
   "nbconvert_exporter": "python",
   "pygments_lexer": "ipython3",
   "version": "3.12.3"
  }
 },
 "nbformat": 4,
 "nbformat_minor": 5
}
