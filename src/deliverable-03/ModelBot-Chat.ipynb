{
 "cells": [
  {
   "cell_type": "markdown",
   "id": "a868f193-ce35-4804-ae1c-d8acaff738d8",
   "metadata": {},
   "source": [
    "## ModelBot Chat"
   ]
  },
  {
   "cell_type": "code",
   "execution_count": null,
   "id": "48b118e0-d0b4-473f-b9f5-023da614d14b",
   "metadata": {},
   "outputs": [],
   "source": [
    "# Import ModelBot\n",
    "from model_bot.user_interface import ModelBot"
   ]
  },
  {
   "cell_type": "code",
   "execution_count": null,
   "id": "44a02752-29db-4c00-bea1-68cec7445192",
   "metadata": {},
   "outputs": [],
   "source": [
    "# Instantiate ModelBot and run chat\n",
    "chatbot = ModelBot()\n",
    "chatbot.chat()"
   ]
  }
 ],
 "metadata": {
  "kernelspec": {
   "display_name": "Python 3 (ipykernel)",
   "language": "python",
   "name": "python3"
  },
  "language_info": {
   "codemirror_mode": {
    "name": "ipython",
    "version": 3
   },
   "file_extension": ".py",
   "mimetype": "text/x-python",
   "name": "python",
   "nbconvert_exporter": "python",
   "pygments_lexer": "ipython3",
   "version": "3.12.3"
  }
 },
 "nbformat": 4,
 "nbformat_minor": 5
}
