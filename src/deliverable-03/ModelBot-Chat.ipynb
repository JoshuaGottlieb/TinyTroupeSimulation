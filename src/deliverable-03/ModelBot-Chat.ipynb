{
 "cells": [
  {
   "cell_type": "markdown",
   "id": "a868f193-ce35-4804-ae1c-d8acaff738d8",
   "metadata": {},
   "source": [
    "## ModelBot Chat"
   ]
  },
  {
   "cell_type": "code",
   "execution_count": 1,
   "id": "48b118e0-d0b4-473f-b9f5-023da614d14b",
   "metadata": {},
   "outputs": [],
   "source": [
    "# Import ModelBot\n",
    "from modules.interface import ModelBot"
   ]
  },
  {
   "cell_type": "code",
   "execution_count": 2,
   "id": "44a02752-29db-4c00-bea1-68cec7445192",
   "metadata": {},
   "outputs": [
    {
     "name": "stdout",
     "output_type": "stream",
     "text": [
      "System: This is a helper agent designed to automatically perform basic modeling tasks for you.\n",
      "System: This agent is powered by Llama 3 and is not a replacement for a human data scientist.\n",
      "System: To get a list of functions available to this agent, type \"help\".\n",
      "System: If you want to restart the chat, type \"clear data\".\n",
      "System: You can exit the chat at any time by typing EXIT.\n",
      "Bot: How can I help you today?\n"
     ]
    },
    {
     "name": "stdin",
     "output_type": "stream",
     "text": [
      "User:  regression report\n"
     ]
    },
    {
     "name": "stdout",
     "output_type": "stream",
     "text": [
      "User: regression report\n",
      "Bot: Intent detected for API call: regression_report\n",
      "Bot: Attempting to call API function regression_report.\n",
      "Bot: Error: Missing prerequisites for API regression_report, invoking prerequisite API perform_regression.\n",
      "Bot: Reason for missing prerequisites: Regression model has not been fit.\n",
      "Bot: Error: Missing prerequisites for API perform_regression, invoking prerequisite API load_csv_and_select_target.\n",
      "Bot: Reason for missing prerequisites: CSV has not been loaded.\n",
      "Bot: Missing inputs needed, please enter inputs. (Enter HELP for description.)\n"
     ]
    },
    {
     "name": "stdin",
     "output_type": "stream",
     "text": [
      "Please enter csv_path (datatype: str):  sample_data/regression_test.csv\n"
     ]
    },
    {
     "name": "stdout",
     "output_type": "stream",
     "text": [
      "User: csv_path = sample_data/regression_test.csv\n",
      "Bot: Dataframe successfully loaded.\n",
      "Bot: Columns successfully normalized.\n",
      "The current version cannot support date or time columns. These will be dropped automatically.\n",
      "Bot: Columns successfully converted.\n",
      "Bot: The possible columns are:\n",
      "['price', 'bedrooms', 'bathrooms', 'sqft_living', 'sqft_lot', 'floors', 'waterfront', 'greenbelt', 'nuisance', 'view', 'condition', 'grade', 'heat_source', 'sewer_system', 'sqft_above', 'sqft_basement', 'sqft_garage', 'sqft_patio', 'yr_built', 'yr_renovated']\n"
     ]
    },
    {
     "name": "stdin",
     "output_type": "stream",
     "text": [
      "Please select a column to use as the target variable. price\n"
     ]
    },
    {
     "name": "stdout",
     "output_type": "stream",
     "text": [
      "User: price\n",
      "Bot: price set as the target column.\n",
      "Bot: Missing inputs needed, please enter inputs. (Enter HELP for description.)\n"
     ]
    },
    {
     "name": "stdin",
     "output_type": "stream",
     "text": [
      "Please enter cleaning_strictness (datatype: int):  0\n"
     ]
    },
    {
     "name": "stdout",
     "output_type": "stream",
     "text": [
      "User: cleaning_strictness = 0\n",
      "Bot: Missing inputs needed, please enter inputs. (Enter HELP for description.)\n"
     ]
    },
    {
     "name": "stdin",
     "output_type": "stream",
     "text": [
      "Please enter hyperparameter_tuning (datatype: bool):  0\n"
     ]
    },
    {
     "name": "stdout",
     "output_type": "stream",
     "text": [
      "User: hyperparameter_tuning = 0\n",
      "Bot: Missing inputs needed, please enter inputs. (Enter HELP for description.)\n"
     ]
    },
    {
     "name": "stdin",
     "output_type": "stream",
     "text": [
      "Please enter extended_models (datatype: bool):  0\n"
     ]
    },
    {
     "name": "stdout",
     "output_type": "stream",
     "text": [
      "User: extended_models = 0\n",
      "Bot: Preprocessing dataframe\n",
      "Bot: Dataframe successfully preprocessed.\n",
      "Bot: Fitting model(s), this may take a while.\n",
      "Bot: Successfully built model.\n",
      "Bot: Missing inputs needed, please enter inputs. (Enter HELP for description.)\n"
     ]
    },
    {
     "name": "stdin",
     "output_type": "stream",
     "text": [
      "Please enter save_pdf (datatype: bool):  1\n"
     ]
    },
    {
     "name": "stdout",
     "output_type": "stream",
     "text": [
      "User: save_pdf = 1\n",
      "Bot: Missing inputs needed, please enter inputs. (Enter HELP for description.)\n"
     ]
    },
    {
     "name": "stdin",
     "output_type": "stream",
     "text": [
      "Please enter save_path (datatype: str):  example_reports/regression_report_example.pdf\n"
     ]
    },
    {
     "name": "stdout",
     "output_type": "stream",
     "text": [
      "User: save_path = example_reports/regression_report_example.pdf\n",
      "Bot: Preparing data for report.\n",
      "Bot: Creating report. This may take a while.\n",
      "Bot: Successfully saved pdf at example_reports/regression_report_example.pdf\n",
      "Bot: Successfully processed API call.\n",
      "Bot: Would you like to clear stored data? Enter Y or N. (Defaults to N)\n"
     ]
    },
    {
     "name": "stdin",
     "output_type": "stream",
     "text": [
      "Enter Y or N. y\n"
     ]
    },
    {
     "name": "stdout",
     "output_type": "stream",
     "text": [
      "Bot: All data cleared and ready for new function calls.\n",
      "Bot: How else may I help you?\n"
     ]
    },
    {
     "name": "stdin",
     "output_type": "stream",
     "text": [
      "User:  classification report\n"
     ]
    },
    {
     "name": "stdout",
     "output_type": "stream",
     "text": [
      "User: classification report\n",
      "Bot: Intent detected for API call: classification_report\n",
      "Bot: Attempting to call API function classification_report.\n",
      "Bot: Error: Missing prerequisites for API classification_report, invoking prerequisite API perform_classification.\n",
      "Bot: Reason for missing prerequisites: Classification model has not been fit.\n",
      "Bot: Error: Missing prerequisites for API perform_classification, invoking prerequisite API load_csv_and_select_target.\n",
      "Bot: Reason for missing prerequisites: CSV has not been loaded.\n",
      "Bot: Missing inputs needed, please enter inputs. (Enter HELP for description.)\n"
     ]
    },
    {
     "name": "stdin",
     "output_type": "stream",
     "text": [
      "Please enter csv_path (datatype: str):  sample_data/classification_test.csv\n"
     ]
    },
    {
     "name": "stdout",
     "output_type": "stream",
     "text": [
      "User: csv_path = sample_data/classification_test.csv\n",
      "Bot: Dataframe successfully loaded.\n",
      "Bot: Columns successfully normalized.\n",
      "The current version cannot support date or time columns. These will be dropped automatically.\n",
      "Bot: Columns successfully converted.\n",
      "Bot: The possible columns are:\n",
      "['gender', 'senior_citizen', 'partner', 'dependents', 'tenure', 'phone_service', 'multiple_lines', 'internet_service', 'online_security', 'online_backup', 'device_protection', 'tech_support', 'streaming_tv', 'streaming_movies', 'contract', 'paperless_billing', 'payment_method', 'monthly_charges', 'churn']\n"
     ]
    },
    {
     "name": "stdin",
     "output_type": "stream",
     "text": [
      "Please select a column to use as the target variable. churn\n"
     ]
    },
    {
     "name": "stdout",
     "output_type": "stream",
     "text": [
      "User: churn\n",
      "Bot: churn set as the target column.\n",
      "Bot: Missing inputs needed, please enter inputs. (Enter HELP for description.)\n"
     ]
    },
    {
     "name": "stdin",
     "output_type": "stream",
     "text": [
      "Please enter cleaning_strictness (datatype: int):  0\n"
     ]
    },
    {
     "name": "stdout",
     "output_type": "stream",
     "text": [
      "User: cleaning_strictness = 0\n",
      "Bot: Missing inputs needed, please enter inputs. (Enter HELP for description.)\n"
     ]
    },
    {
     "name": "stdin",
     "output_type": "stream",
     "text": [
      "Please enter hyperparameter_tuning (datatype: bool):  0\n"
     ]
    },
    {
     "name": "stdout",
     "output_type": "stream",
     "text": [
      "User: hyperparameter_tuning = 0\n",
      "Bot: Missing inputs needed, please enter inputs. (Enter HELP for description.)\n"
     ]
    },
    {
     "name": "stdin",
     "output_type": "stream",
     "text": [
      "Please enter extended_models (datatype: bool):  0\n"
     ]
    },
    {
     "name": "stdout",
     "output_type": "stream",
     "text": [
      "User: extended_models = 0\n",
      "Bot: Preprocessing dataframe\n",
      "Bot: Dataframe successfully preprocessed.\n",
      "Bot: Fitting model(s), this may take a while.\n",
      "Bot: Successfully built model.\n",
      "Bot: Missing inputs needed, please enter inputs. (Enter HELP for description.)\n"
     ]
    },
    {
     "name": "stdin",
     "output_type": "stream",
     "text": [
      "Please enter save_pdf (datatype: bool):  1\n"
     ]
    },
    {
     "name": "stdout",
     "output_type": "stream",
     "text": [
      "User: save_pdf = 1\n",
      "Bot: Missing inputs needed, please enter inputs. (Enter HELP for description.)\n"
     ]
    },
    {
     "name": "stdin",
     "output_type": "stream",
     "text": [
      "Please enter save_path (datatype: str):  example_reports/classification_report_example.pdf\n"
     ]
    },
    {
     "name": "stdout",
     "output_type": "stream",
     "text": [
      "User: save_path = example_reports/classification_report_example.pdf\n",
      "Bot: Preparing data for report.\n",
      "Bot: Creating report. This may take a while.\n",
      "Bot: Successfully saved pdf at example_reports/classification_report_example.pdf\n",
      "Bot: Successfully processed API call.\n",
      "Bot: Would you like to clear stored data? Enter Y or N. (Defaults to N)\n"
     ]
    },
    {
     "name": "stdin",
     "output_type": "stream",
     "text": [
      "Enter Y or N. n\n"
     ]
    },
    {
     "name": "stdout",
     "output_type": "stream",
     "text": [
      "Bot: How else may I help you?\n"
     ]
    },
    {
     "name": "stdin",
     "output_type": "stream",
     "text": [
      "User:  exit\n"
     ]
    },
    {
     "name": "stdout",
     "output_type": "stream",
     "text": [
      "User: exit\n",
      "Bot: Thank you for using this helper agent!\n"
     ]
    }
   ],
   "source": [
    "# Instantiate ModelBot and run chat\n",
    "chatbot = ModelBot()\n",
    "chatbot.chat()"
   ]
  },
  {
   "cell_type": "code",
   "execution_count": null,
   "id": "dda6b51d-e27a-49ef-a1ee-2bd990b81483",
   "metadata": {},
   "outputs": [],
   "source": []
  }
 ],
 "metadata": {
  "kernelspec": {
   "display_name": "Python 3 (ipykernel)",
   "language": "python",
   "name": "python3"
  },
  "language_info": {
   "codemirror_mode": {
    "name": "ipython",
    "version": 3
   },
   "file_extension": ".py",
   "mimetype": "text/x-python",
   "name": "python",
   "nbconvert_exporter": "python",
   "pygments_lexer": "ipython3",
   "version": "3.12.3"
  }
 },
 "nbformat": 4,
 "nbformat_minor": 5
}
